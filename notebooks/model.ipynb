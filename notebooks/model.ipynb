{
 "cells": [
  {
   "cell_type": "code",
   "execution_count": 6,
   "id": "4cef4e3e",
   "metadata": {},
   "outputs": [],
   "source": [
    "import sys\n",
    "import os\n",
    "sys.path.append(os.path.abspath('..'))"
   ]
  },
  {
   "cell_type": "code",
   "execution_count": 7,
   "id": "f88cdb1e",
   "metadata": {},
   "outputs": [],
   "source": [
    "from models.neural_network import NeuralNetwork\n",
    "import numpy as np\n",
    "import pandas as pd\n",
    "import matplotlib.pyplot as plt\n",
    "from tensorflow.keras.datasets import mnist"
   ]
  },
  {
   "cell_type": "code",
   "execution_count": 8,
   "id": "64521c29",
   "metadata": {},
   "outputs": [],
   "source": [
    "(X_train, y_train) , (X_test, y_test) = mnist.load_data()"
   ]
  },
  {
   "cell_type": "code",
   "execution_count": 9,
   "id": "3e802a9d",
   "metadata": {},
   "outputs": [],
   "source": [
    "X_train  = X_train / 255.0\n",
    "X_test = X_test / 255"
   ]
  },
  {
   "cell_type": "code",
   "execution_count": 10,
   "id": "043afe56",
   "metadata": {},
   "outputs": [
    {
     "data": {
      "text/plain": [
       "(60000, 28, 28)"
      ]
     },
     "execution_count": 10,
     "metadata": {},
     "output_type": "execute_result"
    }
   ],
   "source": [
    "X_train.shape"
   ]
  },
  {
   "cell_type": "code",
   "execution_count": 11,
   "id": "52097a15",
   "metadata": {},
   "outputs": [],
   "source": [
    "X_train = X_train.reshape(-1 , 28 * 28)\n",
    "X_test = X_test.reshape(-1 , 28 * 28)"
   ]
  },
  {
   "cell_type": "code",
   "execution_count": 12,
   "id": "04882d39",
   "metadata": {},
   "outputs": [
    {
     "data": {
      "text/plain": [
       "(60000, 784)"
      ]
     },
     "execution_count": 12,
     "metadata": {},
     "output_type": "execute_result"
    }
   ],
   "source": [
    "X_train.shape"
   ]
  },
  {
   "cell_type": "code",
   "execution_count": 13,
   "id": "c2c2c2bd",
   "metadata": {},
   "outputs": [],
   "source": [
    "model = NeuralNetwork()"
   ]
  },
  {
   "cell_type": "code",
   "execution_count": 14,
   "id": "f45e5ac5",
   "metadata": {},
   "outputs": [
    {
     "data": {
      "text/plain": [
       "(60000, 10)"
      ]
     },
     "execution_count": 14,
     "metadata": {},
     "output_type": "execute_result"
    }
   ],
   "source": [
    "y_train_enc = np.zeros((y_train.shape[0], 10))\n",
    "y_train_enc[np.arange(y_train.shape[0]), y_train] = 1\n",
    "\n",
    "y_train_enc.shape"
   ]
  },
  {
   "cell_type": "code",
   "execution_count": 15,
   "id": "a3d9094c",
   "metadata": {},
   "outputs": [
    {
     "name": "stdout",
     "output_type": "stream",
     "text": [
      "Epoch 0: Loss = 2.3704\n",
      "Epoch 100: Loss = 0.7724\n",
      "Epoch 200: Loss = 0.4872\n",
      "Epoch 300: Loss = 0.3987\n",
      "Epoch 400: Loss = 0.3546\n",
      "Epoch 500: Loss = 0.3266\n",
      "Epoch 600: Loss = 0.3061\n",
      "Epoch 700: Loss = 0.2899\n",
      "Epoch 800: Loss = 0.2764\n",
      "Epoch 900: Loss = 0.2649\n"
     ]
    }
   ],
   "source": [
    "model.train(X_train, y_train_enc, epochs=1000, lr=0.03)"
   ]
  },
  {
   "cell_type": "code",
   "execution_count": 16,
   "id": "603bfa8b",
   "metadata": {},
   "outputs": [
    {
     "data": {
      "text/plain": [
       "(10000, 784)"
      ]
     },
     "execution_count": 16,
     "metadata": {},
     "output_type": "execute_result"
    }
   ],
   "source": [
    "X_test.shape"
   ]
  },
  {
   "cell_type": "code",
   "execution_count": 17,
   "id": "1ae3b711",
   "metadata": {},
   "outputs": [
    {
     "data": {
      "text/plain": [
       "(10000, 10)"
      ]
     },
     "execution_count": 17,
     "metadata": {},
     "output_type": "execute_result"
    }
   ],
   "source": [
    "y_test_enc = np.zeros((y_test.shape[0], 10))\n",
    "y_test_enc[np.arange(y_test.shape[0]), y_test] = 1\n",
    "\n",
    "y_test_enc.shape"
   ]
  },
  {
   "cell_type": "code",
   "execution_count": 18,
   "id": "ec0b80f2",
   "metadata": {},
   "outputs": [],
   "source": [
    "y_pred = model.predict(X_train)"
   ]
  },
  {
   "cell_type": "code",
   "execution_count": 19,
   "id": "f9e1fd41",
   "metadata": {},
   "outputs": [
    {
     "data": {
      "text/plain": [
       "(array([[0., 0., 0., 0., 0., 1., 0., 0., 0., 0.],\n",
       "        [1., 0., 0., 0., 0., 0., 0., 0., 0., 0.],\n",
       "        [0., 0., 0., 0., 1., 0., 0., 0., 0., 0.],\n",
       "        [0., 1., 0., 0., 0., 0., 0., 0., 0., 0.]]),\n",
       " array([5, 0, 4, 1], dtype=int64))"
      ]
     },
     "execution_count": 19,
     "metadata": {},
     "output_type": "execute_result"
    }
   ],
   "source": [
    "y_train_enc[:4] , y_pred[0:4]"
   ]
  },
  {
   "cell_type": "code",
   "execution_count": 20,
   "id": "318148dd",
   "metadata": {},
   "outputs": [],
   "source": [
    "y_test_pred = model.predict(X_test)"
   ]
  },
  {
   "cell_type": "code",
   "execution_count": 21,
   "id": "8c418b5e",
   "metadata": {},
   "outputs": [
    {
     "data": {
      "text/plain": [
       "(array([[0., 0., 0., 0., 0., 0., 0., 1., 0., 0.],\n",
       "        [0., 0., 1., 0., 0., 0., 0., 0., 0., 0.],\n",
       "        [0., 1., 0., 0., 0., 0., 0., 0., 0., 0.],\n",
       "        [1., 0., 0., 0., 0., 0., 0., 0., 0., 0.]]),\n",
       " array([7, 2, 1, 0], dtype=int64))"
      ]
     },
     "execution_count": 21,
     "metadata": {},
     "output_type": "execute_result"
    }
   ],
   "source": [
    "y_test_enc[:4] , y_test_pred[:4]"
   ]
  },
  {
   "cell_type": "code",
   "execution_count": 22,
   "id": "f5eb1e3c",
   "metadata": {},
   "outputs": [
    {
     "name": "stdout",
     "output_type": "stream",
     "text": [
      "Accuracy: 92.83%\n"
     ]
    }
   ],
   "source": [
    "accuracy = model.accuracy(X_test, y_test_enc)\n",
    "print(f\"Accuracy: {accuracy * 100:.2f}%\")"
   ]
  },
  {
   "cell_type": "code",
   "execution_count": 23,
   "id": "6c2052ed",
   "metadata": {},
   "outputs": [
    {
     "data": {
      "image/png": "[encoded data removed]",
      "text/plain": [
       "<Figure size 640x480 with 1 Axes>"
      ]
     },
     "metadata": {},
     "output_type": "display_data"
    },
    {
     "name": "stdout",
     "output_type": "stream",
     "text": [
      "Predicted Digit: 2\n"
     ]
    }
   ],
   "source": [
    "index = 43\n",
    "\n",
    "plt.imshow(X_test[index].reshape(28, 28), cmap='gray')\n",
    "plt.title(\"Label: \" + str(y_test[index]))\n",
    "plt.axis('off')\n",
    "plt.show()\n",
    "\n",
    "pred = model.predict(X_test[index].reshape(1, -1))\n",
    "print(\"Predicted Digit:\", pred[0])\n"
   ]
  }
 ],
 "metadata": {
  "kernelspec": {
   "display_name": "ml-env",
   "language": "python",
   "name": "python3"
  },
  "language_info": {
   "codemirror_mode": {
    "name": "ipython",
    "version": 3
   },
   "file_extension": ".py",
   "mimetype": "text/x-python",
   "name": "python",
   "nbconvert_exporter": "python",
   "pygments_lexer": "ipython3",
   "version": "3.9.23"
  }
 },
 "nbformat": 4,
 "nbformat_minor": 5
}
